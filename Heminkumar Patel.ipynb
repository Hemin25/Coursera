{
 "cells": [
  {
   "cell_type": "markdown",
   "id": "e48d700a-d561-461e-8dd4-ceb3a501e348",
   "metadata": {},
   "source": [
    "# Data Science Tools and Ecosystem\n",
    "\n"
   ]
  },
  {
   "cell_type": "markdown",
   "id": "b7e26ce7-cf4d-4a11-9307-019370d7a5ce",
   "metadata": {},
   "source": [
    "In this notebook, Data Science Tools and Ecosystem are summarized."
   ]
  },
  {
   "cell_type": "markdown",
   "id": "8783fba2-326d-4f58-af21-2f487d2e8fb0",
   "metadata": {},
   "source": [
    "**Objectives:**\n",
    "\n",
    "- Understand popular languages used in Data Science.\n",
    "- Explore commonly used libraries for Data Science tasks.\n",
    "- Familiarize yourself with open-source development environment tools.\n",
    "- Learn how to evaluate arithmetic expressions in Python.\n",
    "- Gain insights into converting units, such as minutes to hours.\n"
   ]
  },
  {
   "cell_type": "markdown",
   "id": "4719bc85-3ea9-4718-96c1-63bb4fcf43b9",
   "metadata": {
    "tags": []
   },
   "source": [
    "Some of the popular languages that Data Scientists use are:\n",
    "\n",
    "1. **Python:** Widely adopted for its versatility and extensive libraries, Python is a go-to language for various data science tasks.\n",
    "\n",
    "2. **R:** Specially designed for statistical computing, R is commonly used for data analysis, visualization, and statistical modeling.\n",
    "\n",
    "3. **SQL:** Essential for working with databases, SQL is crucial for managing and querying structured data in data science projects.\n"
   ]
  },
  {
   "cell_type": "markdown",
   "id": "0dc9c80a-dacc-4ea7-9001-3ab83db444d2",
   "metadata": {
    "tags": []
   },
   "source": [
    "# Data Science Libraries\n",
    "\n",
    "Some of the commonly used libraries by Data Scientists include:\n",
    "\n",
    "1. **NumPy:** A fundamental library for numerical operations in Python, NumPy provides support for large, multi-dimensional arrays and matrices, along with mathematical functions.\n",
    "\n",
    "2. **Pandas:** Built on top of NumPy, Pandas offers data structures like DataFrames that simplify data manipulation and analysis in Python.\n",
    "\n",
    "3. **Scikit-learn:** A versatile machine learning library in Python, Scikit-learn provides tools for data preprocessing, modeling, and evaluation, making it a valuable resource for various machine learning tasks.\n"
   ]
  },
  {
   "cell_type": "markdown",
   "id": "2f3c418f-d922-421a-9adc-7ebeac9ec134",
   "metadata": {},
   "source": [
    "| Data Science Tools |\n",
    "|---------------------|\n",
    "| Jupyter Notebooks   |\n",
    "| RStudio             |\n",
    "| VS Code (Visual Studio Code) |\n"
   ]
  },
  {
   "cell_type": "markdown",
   "id": "3616ae96-c298-4a50-83c4-50fac754fa74",
   "metadata": {},
   "source": [
    "### Below are a few examples of evaluating arithmetic expressions in Python.\n"
   ]
  },
  {
   "cell_type": "code",
   "execution_count": 6,
   "id": "66285be3-ebf3-497f-8eef-66d691ef6be9",
   "metadata": {
    "tags": []
   },
   "outputs": [
    {
     "data": {
      "text/plain": [
       "17"
      ]
     },
     "execution_count": 6,
     "metadata": {},
     "output_type": "execute_result"
    }
   ],
   "source": [
    "# This is a simple arithmetic expression to multiply then add integers.\n",
    "result = (3 * 4) + 5\n",
    "result\n"
   ]
  },
  {
   "cell_type": "code",
   "execution_count": 7,
   "id": "f72fd7e9-df7c-426f-8008-c68ee43f84d8",
   "metadata": {
    "tags": []
   },
   "outputs": [
    {
     "data": {
      "text/plain": [
       "3.3333333333333335"
      ]
     },
     "execution_count": 7,
     "metadata": {},
     "output_type": "execute_result"
    }
   ],
   "source": [
    "# This will convert 200 minutes to hours by dividing by 60.\n",
    "minutes = 200\n",
    "hours = minutes / 60\n",
    "hours\n"
   ]
  },
  {
   "cell_type": "markdown",
   "id": "09787926-47c2-45df-8f74-453a644d0fe7",
   "metadata": {},
   "source": [
    "## Author\n",
    "\n",
    "Heminkumar Bhupendrabhai Patel"
   ]
  },
  {
   "cell_type": "code",
   "execution_count": null,
   "id": "c4ce423e-441c-4a4f-9624-90f2c489d12c",
   "metadata": {},
   "outputs": [],
   "source": []
  }
 ],
 "metadata": {
  "kernelspec": {
   "display_name": "Python",
   "language": "python",
   "name": "conda-env-python-py"
  },
  "language_info": {
   "codemirror_mode": {
    "name": "ipython",
    "version": 3
   },
   "file_extension": ".py",
   "mimetype": "text/x-python",
   "name": "python",
   "nbconvert_exporter": "python",
   "pygments_lexer": "ipython3",
   "version": "3.7.12"
  }
 },
 "nbformat": 4,
 "nbformat_minor": 5
}
